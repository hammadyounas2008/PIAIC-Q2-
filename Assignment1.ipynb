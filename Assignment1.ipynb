{
  "nbformat": 4,
  "nbformat_minor": 0,
  "metadata": {
    "colab": {
      "name": "Assignment1.ipynb",
      "provenance": [],
      "collapsed_sections": []
    },
    "kernelspec": {
      "display_name": "Python 3",
      "language": "python",
      "name": "python3"
    },
    "language_info": {
      "codemirror_mode": {
        "name": "ipython",
        "version": 3
      },
      "file_extension": ".py",
      "mimetype": "text/x-python",
      "name": "python",
      "nbconvert_exporter": "python",
      "pygments_lexer": "ipython3",
      "version": "3.7.1"
    }
  },
  "cells": [
    {
      "cell_type": "markdown",
      "metadata": {
        "id": "x-uNKlc-l86Q"
      },
      "source": [
        "# **Assignment** #**1** \r\n",
        "# **PIAIC99938** \r\n",
        "## **Hamad** **Younis**\r\n"
      ]
    },
    {
      "cell_type": "markdown",
      "metadata": {
        "id": "iugrqi1omKbF"
      },
      "source": [
        ""
      ]
    },
    {
      "cell_type": "code",
      "metadata": {
        "id": "ec_eVYTzgBoO",
        "colab": {
          "base_uri": "https://localhost:8080/",
          "height": 35
        },
        "outputId": "0e1813c0-bb6f-4c2d-8bc5-0a0a2d9e46c9"
      },
      "source": [
        "import numpy as np\n",
        "np.__version__\n"
      ],
      "execution_count": null,
      "outputs": [
        {
          "output_type": "execute_result",
          "data": {
            "application/vnd.google.colaboratory.intrinsic+json": {
              "type": "string"
            },
            "text/plain": [
              "'1.19.4'"
            ]
          },
          "metadata": {
            "tags": []
          },
          "execution_count": 3
        }
      ]
    },
    {
      "cell_type": "code",
      "metadata": {
        "colab": {
          "base_uri": "https://localhost:8080/"
        },
        "id": "EM37AChTmm-P",
        "outputId": "586907a9-0595-444b-8afa-e1a2675599f9"
      },
      "source": [
        "arr = np.array([0,1,2,3,4,5,6,7,8,9]) # simple 10 element 1D array\r\n",
        "print(arr)"
      ],
      "execution_count": null,
      "outputs": [
        {
          "output_type": "stream",
          "text": [
            "[0 1 2 3 4 5 6 7 8 9]\n"
          ],
          "name": "stdout"
        }
      ]
    },
    {
      "cell_type": "markdown",
      "metadata": {
        "id": "okB_atEOgwSj"
      },
      "source": [
        "Similar to other C Style languages index start with zero\n",
        "\n",
        "*   To access first element \n",
        "*   To access last element\n",
        "\n"
      ]
    },
    {
      "cell_type": "code",
      "metadata": {
        "id": "5Q1nesC5g3CJ",
        "colab": {
          "base_uri": "https://localhost:8080/",
          "height": 52
        },
        "outputId": "4942be01-fb9e-4530-d1dc-6f23c2109099"
      },
      "source": [
        "print(arr[0]) # first element\n",
        "print(arr[9]) # last element"
      ],
      "execution_count": null,
      "outputs": [
        {
          "output_type": "stream",
          "text": [
            "0\n",
            "9\n"
          ],
          "name": "stdout"
        }
      ]
    },
    {
      "cell_type": "markdown",
      "metadata": {
        "id": "NbJ3E_Aim3Xp"
      },
      "source": [
        "Trigonometric functions"
      ]
    },
    {
      "cell_type": "code",
      "metadata": {
        "colab": {
          "base_uri": "https://localhost:8080/"
        },
        "id": "_fd7drrPlaol",
        "outputId": "5fa480a7-622d-4fcc-ec4f-171541aeb89c"
      },
      "source": [
        "# Calculate sine, cosine, and tangent of x, element-wise.\r\n",
        "x = np.array([0., 1., 30, 90])\r\n",
        "print (\"sine:\", np.sin(x))\r\n",
        "print (\"cosine:\", np.cos(x))\r\n",
        "print (\"tangent:\", np.tan(x))"
      ],
      "execution_count": null,
      "outputs": [
        {
          "output_type": "stream",
          "text": [
            "sine: [ 0.          0.84147098 -0.98803162  0.89399666]\n",
            "cosine: [ 1.          0.54030231  0.15425145 -0.44807362]\n",
            "tangent: [ 0.          1.55740772 -6.4053312  -1.99520041]\n"
          ],
          "name": "stdout"
        }
      ]
    },
    {
      "cell_type": "code",
      "metadata": {
        "colab": {
          "base_uri": "https://localhost:8080/"
        },
        "id": "9KO4_oFYm2Lu",
        "outputId": "ca4095b7-f860-4a2a-d796-61202651ab61"
      },
      "source": [
        "# Calculate inverse sine, inverse cosine, and inverse tangent of x, element-wise.\r\n",
        "x2 = np.array([-1., 0, 1.])\r\n",
        "print (\"inverse sine:\", np.arcsin(x2))\r\n",
        "print (\"inverse cosine:\", np.arccos(x2))\r\n",
        "print (\"inverse tangent:\", np.arctan(x2))"
      ],
      "execution_count": null,
      "outputs": [
        {
          "output_type": "stream",
          "text": [
            "inverse sine: [-1.57079633  0.          1.57079633]\n",
            "inverse cosine: [3.14159265 1.57079633 0.        ]\n",
            "inverse tangent: [-0.78539816  0.          0.78539816]\n"
          ],
          "name": "stdout"
        }
      ]
    },
    {
      "cell_type": "code",
      "metadata": {
        "colab": {
          "base_uri": "https://localhost:8080/"
        },
        "id": "pwolOJeXnSQD",
        "outputId": "033f2dff-2839-4d99-cbdd-7f6a2f5ced8e"
      },
      "source": [
        "#  Convert angles from radians to degrees.\r\n",
        "x = np.array([-np.pi, -np.pi/2, np.pi/2, np.pi])\r\n",
        "\r\n",
        "out1 = np.degrees(x)\r\n",
        "out2 = np.rad2deg(x)\r\n",
        "assert np.array_equiv(out1, out2)\r\n",
        "print (out1)"
      ],
      "execution_count": null,
      "outputs": [
        {
          "output_type": "stream",
          "text": [
            "[-180.  -90.   90.  180.]\n"
          ],
          "name": "stdout"
        }
      ]
    },
    {
      "cell_type": "code",
      "metadata": {
        "colab": {
          "base_uri": "https://localhost:8080/"
        },
        "id": "E8Cb3yDcnZP9",
        "outputId": "c507313f-2140-4414-db06-978b39baf281"
      },
      "source": [
        "# Convert angles from degrees to radians.\r\n",
        "x = np.array([-180.,  -90.,   90.,  180.])\r\n",
        "\r\n",
        "out1 = np.radians(x)\r\n",
        "out2 = np.deg2rad(x)\r\n",
        "assert np.array_equiv(out1, out2)\r\n",
        "print (out1)"
      ],
      "execution_count": null,
      "outputs": [
        {
          "output_type": "stream",
          "text": [
            "[-3.14159265 -1.57079633  1.57079633  3.14159265]\n"
          ],
          "name": "stdout"
        }
      ]
    },
    {
      "cell_type": "markdown",
      "metadata": {
        "id": "704JAw6YnpYX"
      },
      "source": [
        "Hyperbolic functions\r\n",
        "\r\n"
      ]
    },
    {
      "cell_type": "code",
      "metadata": {
        "colab": {
          "base_uri": "https://localhost:8080/"
        },
        "id": "imZaDY6Eno7k",
        "outputId": "41201481-89f3-47db-e73f-9e0e4b5a1316"
      },
      "source": [
        "# Calculate hyperbolic sine, hyperbolic cosine, and hyperbolic tangent of x, element-wise.\r\n",
        "x = np.array([-1., 0, 1.])\r\n",
        "print (\"Hyperbolic sine:\",np.sinh(x))\r\n",
        "print (\"Hyperbolic cos:\",np.cosh(x))\r\n",
        "print (\"Hyperbolic tan:\",np.tanh(x))"
      ],
      "execution_count": null,
      "outputs": [
        {
          "output_type": "stream",
          "text": [
            "Hyperbolic sine: [-1.17520119  0.          1.17520119]\n",
            "Hyperbolic cos: [1.54308063 1.         1.54308063]\n",
            "Hyperbolic tan: [-0.76159416  0.          0.76159416]\n"
          ],
          "name": "stdout"
        }
      ]
    },
    {
      "cell_type": "code",
      "metadata": {
        "colab": {
          "base_uri": "https://localhost:8080/"
        },
        "id": "Oq9-uLJBoOlr",
        "outputId": "c4f54574-8f43-46b1-a05a-81509fd1f68e"
      },
      "source": [
        "# Rounding\r\n",
        "x = np.array([2.1, 1.5, 2.5, 2.9, -2.1, -2.5, -2.9])\r\n",
        "\r\n",
        "out1 = np.around(x)\r\n",
        "out2 = np.floor(x)\r\n",
        "out3 = np.ceil(x)\r\n",
        "out4 = np.trunc(x)\r\n",
        "out5 = [round(elem) for elem in x]\r\n",
        "\r\n",
        "print (\"Around:\",out1)\r\n",
        "print (\"Floor:\",out2)\r\n",
        "print (\"Ceil:\",out3)\r\n",
        "print (\"Trunc:\",out4)\r\n",
        "print (\"Round:\",out5)"
      ],
      "execution_count": null,
      "outputs": [
        {
          "output_type": "stream",
          "text": [
            "Around: [ 2.  2.  2.  3. -2. -2. -3.]\n",
            "Floor: [ 2.  1.  2.  2. -3. -3. -3.]\n",
            "Ceil: [ 3.  2.  3.  3. -2. -2. -2.]\n",
            "Trunc: [ 2.  1.  2.  2. -2. -2. -2.]\n",
            "Round: [2, 2, 2, 3, -2, -2, -3]\n"
          ],
          "name": "stdout"
        }
      ]
    },
    {
      "cell_type": "code",
      "metadata": {
        "colab": {
          "base_uri": "https://localhost:8080/"
        },
        "id": "1nofw9zxpgYK",
        "outputId": "57a9eea7-2bd3-43a5-879b-eaecb6fd600c"
      },
      "source": [
        "# Calculate the difference between neighboring elements, element-wise.\r\n",
        "x = np.array([1, 2, 4, 7, 0])\r\n",
        "print (\"Difference:\",np.diff(x))"
      ],
      "execution_count": null,
      "outputs": [
        {
          "output_type": "stream",
          "text": [
            "Difference: [ 1  2  3 -7]\n"
          ],
          "name": "stdout"
        }
      ]
    },
    {
      "cell_type": "code",
      "metadata": {
        "colab": {
          "base_uri": "https://localhost:8080/"
        },
        "id": "GCkJAzlfp5NY",
        "outputId": "cffbfbb4-d532-4fa8-a769-da3bfdf8d537"
      },
      "source": [
        "# the cross product of x and y.\r\n",
        "x = np.array([1, 2, 3])\r\n",
        "y = np.array([4, 5, 6])\r\n",
        "\r\n",
        "print (\"Cross product:\",np.cross(x, y))"
      ],
      "execution_count": null,
      "outputs": [
        {
          "output_type": "stream",
          "text": [
            "Cross product: [-3  6 -3]\n"
          ],
          "name": "stdout"
        }
      ]
    },
    {
      "cell_type": "markdown",
      "metadata": {
        "id": "RfFDBbAdqO22"
      },
      "source": [
        "Exponents and logarithms\r\n"
      ]
    },
    {
      "cell_type": "code",
      "metadata": {
        "colab": {
          "base_uri": "https://localhost:8080/"
        },
        "id": "hCqXVqWvqFg4",
        "outputId": "40886624-d9cb-4dbc-97c1-8ef52bd59473"
      },
      "source": [
        "# Compute $e^x$, element-wise\r\n",
        "x = np.array([1., 2., 3.], np.float32)\r\n",
        "\r\n",
        "out = np.exp(x)\r\n",
        "print (\"Exponential:\",out)"
      ],
      "execution_count": null,
      "outputs": [
        {
          "output_type": "stream",
          "text": [
            "Exponential: [ 2.718282   7.3890557 20.085537 ]\n"
          ],
          "name": "stdout"
        }
      ]
    },
    {
      "cell_type": "code",
      "metadata": {
        "colab": {
          "base_uri": "https://localhost:8080/"
        },
        "id": "GQp-FH1uqe26",
        "outputId": "a3d232b4-f17f-4be3-b6c4-78624707360f"
      },
      "source": [
        "# Compute natural, base 10, and base 2 logarithms of x element-wise.\r\n",
        "x = np.array([1, np.e, np.e**2])\r\n",
        "\r\n",
        "print (\"Natural log =\", np.log(x))\r\n",
        "print (\"Common log =\", np.log10(x))\r\n",
        "print (\"Base 2 log =\", np.log2(x))"
      ],
      "execution_count": null,
      "outputs": [
        {
          "output_type": "stream",
          "text": [
            "Natural log = [0. 1. 2.]\n",
            "Common log = [0.         0.43429448 0.86858896]\n",
            "Base 2 log = [0.         1.44269504 2.88539008]\n"
          ],
          "name": "stdout"
        }
      ]
    },
    {
      "cell_type": "markdown",
      "metadata": {
        "id": "ohj0MUhYr75B"
      },
      "source": [
        "Arithmetic operations\r\n"
      ]
    },
    {
      "cell_type": "code",
      "metadata": {
        "colab": {
          "base_uri": "https://localhost:8080/"
        },
        "id": "hsDt1SLgr5yc",
        "outputId": "eaca0a72-5753-48a1-b0fd-daed19c29c76"
      },
      "source": [
        "# Add x and y element-wise\r\n",
        "x = np.array([5, 6, 7])\r\n",
        "y = np.array([3, 4, 6])\r\n",
        "\r\n",
        "out1 = np.add(x, y)\r\n",
        "out2 = x + y\r\n",
        "assert np.array_equal(out1, out2)\r\n",
        "print (\"Addtion Result:\",out1)"
      ],
      "execution_count": null,
      "outputs": [
        {
          "output_type": "stream",
          "text": [
            "Addtion Result: [ 8 10 13]\n"
          ],
          "name": "stdout"
        }
      ]
    },
    {
      "cell_type": "code",
      "metadata": {
        "colab": {
          "base_uri": "https://localhost:8080/"
        },
        "id": "PAGoZMoHsd28",
        "outputId": "4a7d72a6-6652-411a-e665-09c78114fab5"
      },
      "source": [
        "# Subtract y from x element-wise.\r\n",
        "x = np.array([3, 4, 5])\r\n",
        "y = np.array(3)\r\n",
        "\r\n",
        "out1 = np.subtract(x, y)\r\n",
        "out2 = x - y \r\n",
        "assert np.array_equal(out1, out2)\r\n",
        "print (\"Subtraction Result:\",out1)"
      ],
      "execution_count": null,
      "outputs": [
        {
          "output_type": "stream",
          "text": [
            "Subtraction Result: [0 1 2]\n"
          ],
          "name": "stdout"
        }
      ]
    },
    {
      "cell_type": "code",
      "metadata": {
        "colab": {
          "base_uri": "https://localhost:8080/"
        },
        "id": "kQoZ4tK8uGoY",
        "outputId": "667469e9-bb85-4aaf-f72d-84c0bb2adbec"
      },
      "source": [
        "# Multiply x by y element-wise.\r\n",
        "x = np.array([3, 4, 5])\r\n",
        "y = np.array([1, 0, -1])\r\n",
        "\r\n",
        "out1 = np.multiply(x, y)\r\n",
        "out2 = x * y \r\n",
        "assert np.array_equal(out1, out2)\r\n",
        "print (\"Multiplication Result\",out1)"
      ],
      "execution_count": null,
      "outputs": [
        {
          "output_type": "stream",
          "text": [
            "Multiplication Result [ 3  0 -5]\n"
          ],
          "name": "stdout"
        }
      ]
    },
    {
      "cell_type": "code",
      "metadata": {
        "colab": {
          "base_uri": "https://localhost:8080/"
        },
        "id": "GTcKaGrWug0n",
        "outputId": "e33daedd-53eb-48e7-b481-0d9d0d817a8e"
      },
      "source": [
        "# Divide x by y element-wise in two different ways.\r\n",
        "x = np.array([3., 4., 5.])\r\n",
        "y = np.array([1., 2., 3.])\r\n",
        "\r\n",
        "out1 = np.true_divide(x, y)\r\n",
        "out2 = x / y \r\n",
        "assert np.array_equal(out1, out2)\r\n",
        "print (\"True Divison Result\",out1)\r\n",
        "\r\n",
        "out3 = np.floor_divide(x, y)\r\n",
        "out4 = x // y\r\n",
        "assert np.array_equal(out3, out4)\r\n",
        "print (\"Floor Divison Result\",out3)"
      ],
      "execution_count": null,
      "outputs": [
        {
          "output_type": "stream",
          "text": [
            "True Divison Result [3.         2.         1.66666667]\n",
            "Floor Divison Result [3. 2. 1.]\n"
          ],
          "name": "stdout"
        }
      ]
    },
    {
      "cell_type": "code",
      "metadata": {
        "colab": {
          "base_uri": "https://localhost:8080/"
        },
        "id": "lvRtTvnjvFFH",
        "outputId": "8be717fd-6665-4630-dfba-7ac0ddbc3f0b"
      },
      "source": [
        "# Compute numerical negative value of x, element-wise.\r\n",
        "x = np.array([1, -1])\r\n",
        "\r\n",
        "out1 = np.negative(x)\r\n",
        "out2 = -x\r\n",
        "assert np.array_equal(out1, out2)\r\n",
        "print (\"Negative Result\",out1)"
      ],
      "execution_count": null,
      "outputs": [
        {
          "output_type": "stream",
          "text": [
            "Negative Result [-1  1]\n"
          ],
          "name": "stdout"
        }
      ]
    },
    {
      "cell_type": "code",
      "metadata": {
        "colab": {
          "base_uri": "https://localhost:8080/"
        },
        "id": "CiocCJsdvNRc",
        "outputId": "e7098b2d-3ddd-466d-fb60-6c1561ca5028"
      },
      "source": [
        "# Compute the reciprocal of x, element-wise.\r\n",
        "x = np.array([1., 2., .2])\r\n",
        "\r\n",
        "out1 = np.reciprocal(x)\r\n",
        "out2 = 1/x\r\n",
        "assert np.array_equal(out1, out2)\r\n",
        "print (\"Reciprocal Result\",out1)"
      ],
      "execution_count": null,
      "outputs": [
        {
          "output_type": "stream",
          "text": [
            "Reciprocal Result [1.  0.5 5. ]\n"
          ],
          "name": "stdout"
        }
      ]
    },
    {
      "cell_type": "code",
      "metadata": {
        "colab": {
          "base_uri": "https://localhost:8080/"
        },
        "id": "60boacw4vlhp",
        "outputId": "7d242c75-d391-4ce3-a159-34fd425a3bcc"
      },
      "source": [
        "# Compute $x^y$, element-wise.\r\n",
        "x = np.array([[1, 2], [3, 4]])\r\n",
        "y = np.array([[1, 2], [1, 2]])\r\n",
        "\r\n",
        "out = np.power(x, y)\r\n",
        "print (\"Power Result\",out)"
      ],
      "execution_count": null,
      "outputs": [
        {
          "output_type": "stream",
          "text": [
            "Power Result [[ 1  4]\n",
            " [ 3 16]]\n"
          ],
          "name": "stdout"
        }
      ]
    },
    {
      "cell_type": "code",
      "metadata": {
        "colab": {
          "base_uri": "https://localhost:8080/"
        },
        "id": "iAoTpHqIwQxv",
        "outputId": "7493fd71-cd91-4acf-8026-92e1d7c47ee3"
      },
      "source": [
        "# Compute the remainder of x / y element-wise in two different ways.\r\n",
        "x = np.array([-3, -2, -1, 1, 2, 3])\r\n",
        "y = 2\r\n",
        "\r\n",
        "out1 = np.mod(x, y)\r\n",
        "out2 = x % y\r\n",
        "assert np.array_equal(out1, out2)\r\n",
        "print (out1)\r\n",
        "\r\n",
        "out3 = np.fmod(x, y)\r\n",
        "print( out3)"
      ],
      "execution_count": null,
      "outputs": [
        {
          "output_type": "stream",
          "text": [
            "[1 0 1 1 0 1]\n",
            "[-1  0 -1  1  0  1]\n"
          ],
          "name": "stdout"
        }
      ]
    },
    {
      "cell_type": "code",
      "metadata": {
        "colab": {
          "base_uri": "https://localhost:8080/"
        },
        "id": "RWg3ibtowdAQ",
        "outputId": "91b8c8a8-173f-460e-a382-256749b8c223"
      },
      "source": [
        "# Compute square root of x element-wise.\r\n",
        "x = np.array([1., 4., 9.])\r\n",
        "\r\n",
        "out = np.sqrt(x)\r\n",
        "print(\"Square Root:\",out)"
      ],
      "execution_count": null,
      "outputs": [
        {
          "output_type": "stream",
          "text": [
            "Square Root: [1. 2. 3.]\n"
          ],
          "name": "stdout"
        }
      ]
    },
    {
      "cell_type": "code",
      "metadata": {
        "colab": {
          "base_uri": "https://localhost:8080/"
        },
        "id": "fGUpi7WswoUb",
        "outputId": "fa3dba09-8062-475e-865d-15d6bf049afb"
      },
      "source": [
        "# Compute the absolute value of x.\r\n",
        "x = np.array([[1, -1], [3, -3]])\r\n",
        "\r\n",
        "out = np.abs(x)\r\n",
        "print(\"Absolute:\",out)"
      ],
      "execution_count": null,
      "outputs": [
        {
          "output_type": "stream",
          "text": [
            "Absolute: [[1 1]\n",
            " [3 3]]\n"
          ],
          "name": "stdout"
        }
      ]
    },
    {
      "cell_type": "code",
      "metadata": {
        "colab": {
          "base_uri": "https://localhost:8080/"
        },
        "id": "vWIDhSN0xSu3",
        "outputId": "6c0d0a4f-f1f8-4c66-f8a4-55e6d48db123"
      },
      "source": [
        "# Compute the square of x, element-wise.\r\n",
        "x = np.array([1, 2, -1, 4,6])\r\n",
        "\r\n",
        "out1 = np.square(x)\r\n",
        "out2 = x * x\r\n",
        "assert np.array_equal(out1, out2)\r\n",
        "print(\"Square:\",out1)"
      ],
      "execution_count": null,
      "outputs": [
        {
          "output_type": "stream",
          "text": [
            "Square: [ 1  4  1 16 36]\n"
          ],
          "name": "stdout"
        }
      ]
    },
    {
      "cell_type": "code",
      "metadata": {
        "colab": {
          "base_uri": "https://localhost:8080/"
        },
        "id": "wHacBRalybhQ",
        "outputId": "0b8e96a0-80cb-4c27-81bf-26706e1bd516"
      },
      "source": [
        "import numpy as np\r\n",
        "in_num1 = 10\r\n",
        "in_num2 = 50\r\n",
        "  \r\n",
        "print (\"Input  number1 : \", in_num1) \r\n",
        "print (\"Input  number2 : \", in_num2)  \r\n",
        "    \r\n",
        "out_num = np.maximum(in_num1, in_num2)  \r\n",
        "print (\"maximum of 10 and 50 : \", out_num)  "
      ],
      "execution_count": null,
      "outputs": [
        {
          "output_type": "stream",
          "text": [
            "Input  number1 :  10\n",
            "Input  number2 :  50\n",
            "maximum of 10 and 50 :  50\n"
          ],
          "name": "stdout"
        }
      ]
    },
    {
      "cell_type": "code",
      "metadata": {
        "id": "iVciD8OyzwXA",
        "colab": {
          "base_uri": "https://localhost:8080/"
        },
        "outputId": "175fc439-4890-4a4d-d04b-ae097f70755d"
      },
      "source": [
        "import numpy as np \r\n",
        "in_num1 = 5\r\n",
        "in_num2 = 10\r\n",
        "  \r\n",
        "print (\"Input  number1 : \", in_num1) \r\n",
        "print (\"Input  number2 : \", in_num2)  \r\n",
        "    \r\n",
        "out_num = np.minimum(in_num1, in_num2)  \r\n",
        "print (\"minimum of 5 and 10 : \", out_num)  "
      ],
      "execution_count": 50,
      "outputs": [
        {
          "output_type": "stream",
          "text": [
            "Input  number1 :  5\n",
            "Input  number2 :  10\n",
            "minimum of 5 and 10 :  5\n"
          ],
          "name": "stdout"
        }
      ]
    },
    {
      "cell_type": "code",
      "metadata": {
        "colab": {
          "base_uri": "https://localhost:8080/"
        },
        "id": "YLT1wO7V00Ul",
        "outputId": "f8f6543a-b410-4555-e558-ce4efd0a436c"
      },
      "source": [
        "# real and imginary part of the complex argument.\r\n",
        "a = np.array([1+2j, 3+4j, 5+6j])\r\n",
        "print (\"Real Number : \", a.real) \r\n",
        "print (\"Imaginary Number: \", a.imag) "
      ],
      "execution_count": 53,
      "outputs": [
        {
          "output_type": "stream",
          "text": [
            "Real Number :  [1. 3. 5.]\n",
            "Imaginary Number:  [2. 4. 6.]\n"
          ],
          "name": "stdout"
        }
      ]
    },
    {
      "cell_type": "code",
      "metadata": {
        "colab": {
          "base_uri": "https://localhost:8080/"
        },
        "id": "ON4yycRW2CRM",
        "outputId": "80f8542d-e9e7-401f-bd2f-3a3a38dd5ff4"
      },
      "source": [
        "# the complex conjugate, element-wise\r\n",
        "x=np.conjugate(1+2j)\r\n",
        "print (\"Conjugate: \", x) "
      ],
      "execution_count": 56,
      "outputs": [
        {
          "output_type": "stream",
          "text": [
            "Conjugate:  (1-2j)\n"
          ],
          "name": "stdout"
        }
      ]
    },
    {
      "cell_type": "code",
      "metadata": {
        "colab": {
          "base_uri": "https://localhost:8080/"
        },
        "id": "1Jq7j_po2oXv",
        "outputId": "5831606c-71ca-4908-8f69-1a6f69c8290a"
      },
      "source": [
        "# the linear convolution, element-wise\r\n",
        "y=np.convolve([1, 2, 3], [0, 1, 0.5])\r\n",
        "print (\"linear convolution: \", y) "
      ],
      "execution_count": 58,
      "outputs": [
        {
          "output_type": "stream",
          "text": [
            "linear convolution:  [0.  1.  2.5 4.  1.5]\n"
          ],
          "name": "stdout"
        }
      ]
    },
    {
      "cell_type": "code",
      "metadata": {
        "colab": {
          "base_uri": "https://localhost:8080/"
        },
        "id": "b4mlC9P43HL-",
        "outputId": "1b9840da-8212-4d81-bef2-0f42e9e0b94a"
      },
      "source": [
        "# the LCM, element-wise\r\n",
        "z=np.lcm(12, 20)\r\n",
        "print (\"LCM: \", z) "
      ],
      "execution_count": 59,
      "outputs": [
        {
          "output_type": "stream",
          "text": [
            "LCM:  60\n"
          ],
          "name": "stdout"
        }
      ]
    },
    {
      "cell_type": "code",
      "metadata": {
        "colab": {
          "base_uri": "https://localhost:8080/"
        },
        "id": "SMzR85Hi3LYg",
        "outputId": "7281929b-0f71-48b5-838e-98a0515ab66e"
      },
      "source": [
        "# the GCD, element-wise\r\n",
        "v=np.gcd(12, 20)\r\n",
        "print (\"GCD: \", v) "
      ],
      "execution_count": 60,
      "outputs": [
        {
          "output_type": "stream",
          "text": [
            "GCD:  4\n"
          ],
          "name": "stdout"
        }
      ]
    },
    {
      "cell_type": "code",
      "metadata": {
        "colab": {
          "base_uri": "https://localhost:8080/"
        },
        "id": "Gn5a_RvY3nzw",
        "outputId": "190d7ddb-ee60-4a0c-d94e-79baa339831f"
      },
      "source": [
        "#  element-wise True where signbit is set (less than zero).\r\n",
        "a=np.signbit(-1.2)\r\n",
        "b=np.signbit(np.array([1, -2.3, 2.1]))\r\n",
        "print (\"Signbit: \", a) \r\n",
        "print (\"Signbit: \", b) "
      ],
      "execution_count": 66,
      "outputs": [
        {
          "output_type": "stream",
          "text": [
            "Signbit:  True\n",
            "Signbit:  [False  True False]\n"
          ],
          "name": "stdout"
        }
      ]
    },
    {
      "cell_type": "code",
      "metadata": {
        "colab": {
          "base_uri": "https://localhost:8080/"
        },
        "id": "AahbAIJQ4H_2",
        "outputId": "02713a56-cdf0-4a8f-c746-9750bcd17cbf"
      },
      "source": [
        "\t\r\n",
        "# Element-wise maximum of array elements.\r\n",
        "np.fmax([2, 3, 4], [1, 5, 2])"
      ],
      "execution_count": 69,
      "outputs": [
        {
          "output_type": "execute_result",
          "data": {
            "text/plain": [
              "array([2, 5, 4])"
            ]
          },
          "metadata": {
            "tags": []
          },
          "execution_count": 69
        }
      ]
    },
    {
      "cell_type": "code",
      "metadata": {
        "colab": {
          "base_uri": "https://localhost:8080/"
        },
        "id": "PST1I3WS4ah0",
        "outputId": "b5637e78-dc63-4050-c299-52306a3f6a46"
      },
      "source": [
        "\t\r\n",
        "# Element-wise minimum of array elements.\r\n",
        "np.fmin([2, 3, 4], [1, 5, 2])"
      ],
      "execution_count": 70,
      "outputs": [
        {
          "output_type": "execute_result",
          "data": {
            "text/plain": [
              "array([1, 3, 2])"
            ]
          },
          "metadata": {
            "tags": []
          },
          "execution_count": 70
        }
      ]
    },
    {
      "cell_type": "code",
      "metadata": {
        "colab": {
          "base_uri": "https://localhost:8080/"
        },
        "id": "5jUHCCyp5SIe",
        "outputId": "c548fd8b-4978-4df4-b0a2-53c03cafa4e3"
      },
      "source": [
        "# Calculate Gradient.\r\n",
        "f = np.array([1, 2, 4, 7, 11, 16], dtype=float)\r\n",
        "np.gradient(f)"
      ],
      "execution_count": 73,
      "outputs": [
        {
          "output_type": "execute_result",
          "data": {
            "text/plain": [
              "array([1. , 1.5, 2.5, 3.5, 4.5, 5. ])"
            ]
          },
          "metadata": {
            "tags": []
          },
          "execution_count": 73
        }
      ]
    },
    {
      "cell_type": "code",
      "metadata": {
        "colab": {
          "base_uri": "https://localhost:8080/"
        },
        "id": "TZaQaBO25iqg",
        "outputId": "9b15ce33-4f18-41e9-897c-405e269591bd"
      },
      "source": [
        "# Return element-wise remainder of division.\r\n",
        "np.remainder([4, 7], [2, 3])"
      ],
      "execution_count": 74,
      "outputs": [
        {
          "output_type": "execute_result",
          "data": {
            "text/plain": [
              "array([0, 1])"
            ]
          },
          "metadata": {
            "tags": []
          },
          "execution_count": 74
        }
      ]
    },
    {
      "cell_type": "code",
      "metadata": {
        "colab": {
          "base_uri": "https://localhost:8080/"
        },
        "id": "f8FXN9G_5mEn",
        "outputId": "5bda72c8-a63f-4bc5-958b-83516acf22f6"
      },
      "source": [
        "# Return the fractional and integral parts of an array, element-wise..\r\n",
        "np.modf([0, 3.5])"
      ],
      "execution_count": 76,
      "outputs": [
        {
          "output_type": "execute_result",
          "data": {
            "text/plain": [
              "(array([0. , 0.5]), array([0., 3.]))"
            ]
          },
          "metadata": {
            "tags": []
          },
          "execution_count": 76
        }
      ]
    }
  ]
}